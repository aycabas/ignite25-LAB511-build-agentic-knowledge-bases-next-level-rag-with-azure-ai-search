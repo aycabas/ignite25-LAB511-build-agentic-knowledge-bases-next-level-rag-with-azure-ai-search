{
 "cells": [
  {
   "cell_type": "markdown",
   "id": "3a0f14e9",
   "metadata": {},
   "source": [
    "# Azure AI Search Knowledge Agents with Blob Knowledge Source\n",
    "\n",
    "> Make sure to open the project on VSCode from `ignite25-LAB511-build-knowledge-agents...` folder. If you open the project from the `LAB511` folder, you will get errors because of missing dependencies.\n",
    "\n",
    "This Python notebook demonstrates how to use [Azure AI Search Knowledge Agents](https://learn.microsoft.com/azure/search/search-agentic-retrieval-overview) with a [blob knowledge source](https://learn.microsoft.com/azure/search/search-knowledge-source-how-to-blob) to build intelligent retrieval applications.\n",
    "\n",
    "## What You'll Learn\n",
    "\n",
    "In this lab, you will:\n",
    "* Connect to an existing blob knowledge source that contains indexed documents\n",
    "* Create a knowledge agent that uses Azure OpenAI models for intelligent retrieval\n",
    "* Query the knowledge agent with natural language to get grounded, citation-backed answers\n",
    "* Explore the agent's activity and reasoning process\n",
    "\n",
    "## Architecture Overview\n",
    "\n",
    "The lab environment has already provisioned:\n",
    "* **Azure Blob Storage** - Contains your source documents (PDFs about employee benefits)\n",
    "* **Azure AI Search** - Hosts the knowledge source with vectorized and indexed content\n",
    "* **Azure OpenAI** - Provides embedding and chat completion models\n",
    "\n",
    "The blob knowledge source uses [integrated vectorization](https://learn.microsoft.com/azure/search/vector-search-integrated-vectorization) to automatically:\n",
    "* Generate embeddings using Azure OpenAI's `text-embedding-3-large` model\n",
    "* Create a search index optimized for semantic search\n",
    "* Connect your documents to the knowledge agent for intelligent retrieval\n",
    "\n",
    "## Prerequisites\n",
    "\n",
    "The following resources have already been created by the lab setup:\n",
    "- ✅ Azure Blob Storage with uploaded documents\n",
    "- ✅ Azure AI Search service with knowledge source configured\n",
    "- ✅ Azure OpenAI with deployed models\n",
    "- ✅ Indexed documents ready for querying\n",
    "\n",
    "Let's get started!"
   ]
  },
  {
   "cell_type": "markdown",
   "id": "13a923ac",
   "metadata": {},
   "source": [
    "## Step 1: Load Environment Variables\n",
    "\n",
    "Before we begin, we need to load the configuration for your Azure resources. The lab setup has created a `.env` file at the workspace root containing:\n",
    "* Azure AI Search endpoint and credentials\n",
    "* Azure OpenAI endpoint, API key, and model deployment names\n",
    "* Azure Blob Storage connection information\n",
    "* Knowledge source and agent names\n",
    "\n",
    "Run the cell below to load these environment variables into your Python session.\n",
    "\n",
    "**Note:** This example includes image verbalization that uses an LLM to describe embedded images in your source content. Image verbalization can be enabled by setting `USE_VERBALIZATION` to `true` in the `.env` file (it's currently set to `false` by default)."
   ]
  },
  {
   "cell_type": "code",
   "execution_count": null,
   "id": "b6498ea2",
   "metadata": {},
   "outputs": [],
   "source": [
    "from dotenv import load_dotenv\n",
    "from azure.identity.aio import DefaultAzureCredential\n",
    "from azure.core.credentials import AzureKeyCredential\n",
    "import os\n",
    "\n",
    "load_dotenv(override=True) # take environment variables from .env.\n",
    "\n",
    "# Variables not used here do not need to be updated in your .env file\n",
    "endpoint = os.environ[\"AZURE_SEARCH_SERVICE_ENDPOINT\"]\n",
    "credential = AzureKeyCredential(os.getenv(\"AZURE_SEARCH_ADMIN_KEY\")) if os.getenv(\"AZURE_SEARCH_ADMIN_KEY\") else DefaultAzureCredential()\n",
    "knowledge_source_name = os.getenv(\"AZURE_SEARCH_KNOWLEDGE_SOURCE\", \"blob-knowledge-source\")\n",
    "knowledge_agent_name = os.getenv(\"AZURE_SEARCH_KNOWLEDGE_AGENT\", \"blob-knowledge-agent\")\n",
    "blob_connection_string = os.environ[\"BLOB_CONNECTION_STRING\"]\n",
    "# search blob datasource connection string is optional - defaults to blob connection string\n",
    "# This field is only necessary if you are using MI to connect to the data source\n",
    "# https://learn.microsoft.com/azure/search/search-howto-indexing-azure-blob-storage#supported-credentials-and-connection-strings\n",
    "search_blob_connection_string = os.getenv(\"SEARCH_BLOB_DATASOURCE_CONNECTION_STRING\", blob_connection_string)\n",
    "blob_container_name = os.getenv(\"BLOB_CONTAINER_NAME\", \"documents\")\n",
    "azure_openai_endpoint = os.environ[\"AZURE_OPENAI_ENDPOINT\"]\n",
    "azure_openai_key = os.getenv(\"AZURE_OPENAI_KEY\")\n",
    "azure_openai_embedding_deployment = os.getenv(\"AZURE_OPENAI_EMBEDDING_DEPLOYMENT\", \"text-embedding-3-large\")\n",
    "azure_openai_embedding_model_name = os.getenv(\"AZURE_OPENAI_EMBEDDING_MODEL_NAME\", \"text-embedding-3-large\")\n",
    "azure_openai_chatgpt_deployment = os.getenv(\"AZURE_OPENAI_CHATGPT_DEPLOYMENT\", \"gpt-5\")\n",
    "azure_openai_chatgpt_model_name = os.getenv(\"AZURE_OPENAI_CHATGPT_MODEL_NAME\", \"gpt-5\")\n",
    "use_verbalization = os.getenv(\"USE_VERBALIZATION\", \"false\") == \"true\"\n"
   ]
  },
  {
   "cell_type": "markdown",
   "id": "31bb33a4",
   "metadata": {},
   "source": [
    "## Step 2: Retrieve the Existing Knowledge Source\n",
    "\n",
    "The lab setup has already created a [blob knowledge source](https://learn.microsoft.com/azure/search/search-knowledge-source-how-to-blob) on Azure AI Search and uploaded documents to Azure Blob Storage. The indexer has processed and vectorized the documents, making them ready for intelligent retrieval.\n",
    "\n",
    "In this step, we will:\n",
    "1. **Define the chat model** - Configure the Azure OpenAI model that will be used by the knowledge agent for answer generation\n",
    "2. **Retrieve the knowledge source** - Connect to the existing knowledge source created during lab setup\n",
    "3. **Check indexer status** - Verify that the documents have been successfully indexed\n",
    "\n",
    "This ensures that all components are ready before creating the knowledge agent."
   ]
  },
  {
   "cell_type": "code",
   "execution_count": null,
   "id": "fa342b91",
   "metadata": {},
   "outputs": [
    {
     "name": "stdout",
     "output_type": "stream",
     "text": [
      "Created knowledge source: blob-knowledge-source\n"
     ]
    }
   ],
   "source": [
    "from azure.search.documents.indexes.models import AzureBlobKnowledgeSource, AzureOpenAIVectorizer, AzureOpenAIVectorizerParameters, KnowledgeAgentAzureOpenAIModel\n",
    "from azure.search.documents.indexes.aio import SearchIndexClient, SearchIndexerClient\n",
    "\n",
    "# Define the chat model (needed for agent creation)\n",
    "chat_model = KnowledgeAgentAzureOpenAIModel(\n",
    "    azure_open_ai_parameters=AzureOpenAIVectorizerParameters(\n",
    "        resource_url=azure_openai_endpoint,\n",
    "        deployment_name=azure_openai_chatgpt_deployment,\n",
    "        api_key=azure_openai_key,\n",
    "        model_name=azure_openai_chatgpt_model_name\n",
    "    )\n",
    ")\n",
    "\n",
    "# Retrieve the existing knowledge source\n",
    "async with SearchIndexClient(endpoint=endpoint, credential=credential) as index_client:\n",
    "    knowledge_source = await index_client.get_knowledge_source(knowledge_source_name)\n",
    "    print(f\"Retrieved existing knowledge source: {knowledge_source.name}\")\n",
    "\n",
    "# Check indexer status\n",
    "async with SearchIndexerClient(endpoint=endpoint, credential=credential) as indexer_client:\n",
    "    indexer_name = f\"{knowledge_source_name}-indexer\"\n",
    "    indexer_status = await indexer_client.get_indexer_status(indexer_name)\n",
    "    print(f\"Indexer status: {indexer_status.status}\")\n",
    "    print(f\"Last run status: {indexer_status.last_result.status if indexer_status.last_result else 'Not run yet'}\")"
   ]
  },
  {
   "cell_type": "markdown",
   "id": "e0cdb045",
   "metadata": {},
   "source": [
    "## Step 3: Create a Knowledge Agent\n",
    "\n",
    "Now we'll create a [knowledge agent](https://learn.microsoft.com/azure/search/search-agentic-retrieval-overview) that acts as an intelligent wrapper around your knowledge source and LLM deployment. The agent coordinates the retrieval and generation process to provide grounded answers.\n",
    "\n",
    "### Output Modality Options\n",
    "\n",
    "The agent supports two output modalities:\n",
    "* **`EXTRACTIVE_DATA`** (default) - Returns exact content from your knowledge sources without generative alteration\n",
    "* **`ANSWER_SYNTHESIS`** (used here) - Generates natural language answers using the LLM that cite the retrieved content\n",
    "\n",
    "We're using `ANSWER_SYNTHESIS` with `include_activity=True` to get:\n",
    "* **LLM-generated answers** that cite retrieved documents\n",
    "* **Detailed activity logs** showing the agent's reasoning process, including subqueries and reranking decisions\n",
    "\n",
    "Learn more about [answer synthesis in Azure AI Search](https://learn.microsoft.com/azure/search/search-agentic-retrieval-how-to-synthesize)."
   ]
  },
  {
   "cell_type": "code",
   "execution_count": null,
   "id": "17f5a2c6",
   "metadata": {},
   "outputs": [
    {
     "name": "stdout",
     "output_type": "stream",
     "text": [
      "Created knowledge agent: blob-knowledge-agent\n"
     ]
    }
   ],
   "source": [
    "from azure.search.documents.indexes.models import KnowledgeAgent, KnowledgeSourceReference, KnowledgeAgentOutputConfiguration, KnowledgeAgentOutputConfigurationModality\n",
    "\n",
    "output_config = KnowledgeAgentOutputConfiguration(\n",
    "    modality=KnowledgeAgentOutputConfigurationModality.ANSWER_SYNTHESIS,\n",
    "    include_activity=True\n",
    ")\n",
    "\n",
    "agent = KnowledgeAgent(\n",
    "    name=knowledge_agent_name,\n",
    "    models=[chat_model],\n",
    "    knowledge_sources=[\n",
    "        KnowledgeSourceReference(\n",
    "            name=knowledge_source.name,\n",
    "            include_reference_source_data=True,\n",
    "            always_query_source=True\n",
    "        )\n",
    "    ],\n",
    "    output_configuration=output_config\n",
    ")\n",
    "\n",
    "async with SearchIndexClient(endpoint=endpoint, credential=credential) as index_client:\n",
    "    await index_client.create_or_update_agent(agent)\n",
    "    print(f\"Created knowledge agent: {agent.name}\")"
   ]
  },
  {
   "cell_type": "markdown",
   "id": "e78ca732",
   "metadata": {},
   "source": [
    "## Step 4: Query the Knowledge Agent\n",
    "\n",
    "Now let's use agentic retrieval to query our documents! This step demonstrates how the knowledge agent processes queries to produce grounded, citation-backed answers.\n",
    "\n",
    "### How Agentic Retrieval Works\n",
    "\n",
    "Given a user query and conversation history, the knowledge agent:\n",
    "1. **Analyzes the conversation** - Understands the full context and user's information need\n",
    "2. **Query decomposition** - Breaks down complex queries into focused subqueries\n",
    "3. **Concurrent execution** - Runs subqueries in parallel against your knowledge source\n",
    "4. **Semantic reranking** - Uses semantic ranker to rerank and filter results for relevance\n",
    "5. **Answer synthesis** - Synthesizes the top results into a natural-language answer with citations\n",
    "\n",
    "### Example Query\n",
    "\n",
    "The example below asks about differences between two employee benefit plans. The agent will:\n",
    "* Search across the indexed PDF documents\n",
    "* Find relevant sections from both plans\n",
    "* Generate a comparative answer with specific citations\n",
    "\n",
    "Try running the query, then modify it to ask your own questions!"
   ]
  },
  {
   "cell_type": "code",
   "execution_count": null,
   "id": "cda61b67",
   "metadata": {},
   "outputs": [],
   "source": [
    "from azure.search.documents.agent.aio import KnowledgeAgentRetrievalClient\n",
    "from azure.search.documents.agent.models import KnowledgeAgentRetrievalRequest, KnowledgeAgentMessage, KnowledgeAgentMessageTextContent, SearchIndexKnowledgeSourceParams\n",
    "\n",
    "messages = [\n",
    "    KnowledgeAgentMessage(\n",
    "        role=\"user\",\n",
    "        content=[KnowledgeAgentMessageTextContent(\n",
    "            text=\"Differences between Northwind Health Plus and Standard\"\n",
    "        )]\n",
    "    )\n",
    "]\n",
    "\n",
    "agent_client = KnowledgeAgentRetrievalClient(endpoint=endpoint, agent_name=knowledge_agent_name, credential=credential)\n",
    "result = await agent_client.retrieve(KnowledgeAgentRetrievalRequest(messages=messages))"
   ]
  },
  {
   "cell_type": "markdown",
   "id": "8c3e3e31",
   "metadata": {},
   "source": [
    "## Step 5: Review the Retrieval Response\n",
    "\n",
    "The knowledge agent's response contains three key components that provide full transparency into the retrieval process:\n",
    "\n",
    "### 1. Response Content (Answer)\n",
    "An LLM-generated answer to your query that cites the retrieved documents. This is the primary output you'd show to end users.\n",
    "\n",
    "### 2. Activity Content (Reasoning)\n",
    "Detailed planning and execution information showing:\n",
    "* **Subqueries generated** - How the agent broke down your query\n",
    "* **Reranking decisions** - Which results were promoted or filtered\n",
    "* **Intermediate steps** - The agent's thought process and execution flow\n",
    "\n",
    "### 3. References Content (Sources)\n",
    "Source documents and text chunks that contributed to the answer, including:\n",
    "* Document names and metadata\n",
    "* Specific text passages used\n",
    "* Relevance scores and rankings\n",
    "\n",
    "### Why This Matters\n",
    "\n",
    "These three components enable you to:\n",
    "* **Verify grounding** - Ensure answers are based on your actual content\n",
    "* **Build traceable citations** - Create links back to source documents\n",
    "* **Debug and optimize** - Understand why certain results were retrieved\n",
    "* **Tune retrieval parameters** - Adjust reranker thresholds and knowledge source settings\n",
    "\n",
    "**Tip:** Retrieval parameters (like reranker thresholds and knowledge source parameters) influence how aggressively your agent reranks results and which sources it queries. Inspect the activity and references to validate grounding quality.\n",
    "\n",
    "Let's examine each component:"
   ]
  },
  {
   "cell_type": "code",
   "execution_count": null,
   "id": "94562da2",
   "metadata": {},
   "outputs": [
    {
     "name": "stdout",
     "output_type": "stream",
     "text": [
      "Northwind Health Plus and Northwind Standard differ in several key areas:\n",
      "\n",
      "- **Coverage Scope**: Northwind Health Plus is a comprehensive plan that covers medical, vision, and dental services, as well as prescription drugs, mental health and substance abuse services, preventive care, and emergency services (both in-network and out-of-network). Northwind Standard is a more basic plan that covers medical, vision, and dental services, preventive care, and prescription drugs, but does not cover emergency services, mental health and substance abuse services, or out-of-network services [ref_id:0][ref_id:2][ref_id:1].\n",
      "\n",
      "- **Prescription Drugs**: Northwind Health Plus covers a wider range of prescription drugs, including generic, brand-name, and specialty drugs. Northwind Standard only covers generic and brand-name drugs [ref_id:0].\n",
      "\n",
      "- **Vision and Dental**: Both plans cover vision and dental services, but Northwind Health Plus includes coverage for vision exams, glasses, contact lenses, and dental exams, cleanings, and fillings. Northwind Standard only covers vision exams and glasses [ref_id:0].\n",
      "\n",
      "- **Medical Services**: Northwind Health Plus covers hospital stays, doctor visits, lab tests, and X-rays. Northwind Standard covers only doctor visits and lab tests [ref_id:0].\n",
      "\n",
      "- **Cost Structure**: The cost to the employee depends on the selected plan and the number of people covered. Costs are deducted from each paycheck throughout the year [ref_id:1].\n",
      "\n",
      "- **Network**: Northwind Health Plus offers both in-network and out-of-network coverage, while Northwind Standard only covers in-network services [ref_id:0][ref_id:2].\n",
      "\n",
      "In summary, Northwind Health Plus offers broader and more comprehensive coverage compared to Northwind Standard [ref_id:0][ref_id:1][ref_id:2].\n"
     ]
    }
   ],
   "source": [
    "print(result.response[0].content[0].text)"
   ]
  },
  {
   "cell_type": "code",
   "execution_count": null,
   "id": "1b53cc71",
   "metadata": {},
   "outputs": [
    {
     "name": "stdout",
     "output_type": "stream",
     "text": [
      "activity_content:\n",
      " [\n",
      "  {\n",
      "    \"id\": 0,\n",
      "    \"type\": \"modelQueryPlanning\",\n",
      "    \"elapsed_ms\": 913,\n",
      "    \"input_tokens\": 2021,\n",
      "    \"output_tokens\": 48\n",
      "  },\n",
      "  {\n",
      "    \"id\": 1,\n",
      "    \"type\": \"azureBlob\",\n",
      "    \"elapsed_ms\": 555,\n",
      "    \"knowledge_source_name\": \"blob-knowledge-source\",\n",
      "    \"query_time\": \"2025-09-09T05:40:40.117Z\",\n",
      "    \"count\": 50,\n",
      "    \"azure_blob_arguments\": {\n",
      "      \"search\": \"Differences between Northwind Health Plus and Northwind Health Standard plans\"\n",
      "    }\n",
      "  },\n",
      "  {\n",
      "    \"id\": 2,\n",
      "    \"type\": \"semanticReranker\",\n",
      "    \"input_tokens\": 0\n",
      "  },\n",
      "  {\n",
      "    \"id\": 3,\n",
      "    \"type\": \"modelAnswerSynthesis\",\n",
      "    \"elapsed_ms\": 3968,\n",
      "    \"input_tokens\": 7010,\n",
      "    \"output_tokens\": 402\n",
      "  }\n",
      "] \n",
      "\n"
     ]
    }
   ],
   "source": [
    "import json\n",
    "\n",
    "# Activity -> JSON string of activity as list of dicts\n",
    "\n",
    "activity_content = json.dumps([a.as_dict() for a in result.activity], indent=2)\n",
    "print(\"activity_content:\\n\", activity_content, \"\\n\")"
   ]
  },
  {
   "cell_type": "code",
   "execution_count": null,
   "id": "23f64b89",
   "metadata": {},
   "outputs": [],
   "source": [
    "# References -> JSON string of references as list of dicts\n",
    "references_content = json.dumps([r.as_dict() for r in result.references], indent=2)\n",
    "print(\"references_content:\\n\", references_content, \"\\n\")"
   ]
  }
 ],
 "metadata": {
  "kernelspec": {
   "display_name": "knowledge",
   "language": "python",
   "name": "python3"
  },
  "language_info": {
   "codemirror_mode": {
    "name": "ipython",
    "version": 3
   },
   "file_extension": ".py",
   "mimetype": "text/x-python",
   "name": "python",
   "nbconvert_exporter": "python",
   "pygments_lexer": "ipython3",
   "version": "3.11.10"
  }
 },
 "nbformat": 4,
 "nbformat_minor": 5
}
